{
 "cells": [
  {
   "cell_type": "code",
   "execution_count": 3,
   "metadata": {},
   "outputs": [
    {
     "name": "stdout",
     "output_type": "stream",
     "text": [
      "            0          1            2         3     4\n",
      "0  First Name  Last Name       Course  Semester  Year\n",
      "1   Snehasish      Nayak  MBA in ITSM         3  2023\n"
     ]
    }
   ],
   "source": [
    "import collections\n",
    "import collections.abc\n",
    "from pptx import Presentation\n",
    "import pandas as pd\n",
    "\n",
    "def read_ppt(filename):\n",
    "    presentation = Presentation(filename)\n",
    "    tables = []\n",
    "    for slide in presentation.slides:\n",
    "        for shape in slide.shapes:\n",
    "            if shape.has_table:\n",
    "                table = shape.table\n",
    "                table_data = []\n",
    "                for row in table.rows:\n",
    "                    row_data = []\n",
    "                    for cell in row.cells:\n",
    "                        cell_text = ''\n",
    "                        for paragraph in cell.text_frame.paragraphs:\n",
    "                            for run in paragraph.runs:\n",
    "                                cell_text += run.text\n",
    "                        row_data.append(cell_text)\n",
    "                    table_data.append(row_data)\n",
    "                df = pd.DataFrame(table_data)\n",
    "                tables.append(df)\n",
    "    return tables\n",
    "\n",
    "tables = read_ppt('../data/PPT Reader Sample.pptx')\n",
    "\n",
    "# Let's print the first table as an example\n",
    "if tables:\n",
    "    print(tables[0])\n"
   ]
  }
 ],
 "metadata": {
  "kernelspec": {
   "display_name": "Python 3",
   "language": "python",
   "name": "python3"
  },
  "language_info": {
   "codemirror_mode": {
    "name": "ipython",
    "version": 3
   },
   "file_extension": ".py",
   "mimetype": "text/x-python",
   "name": "python",
   "nbconvert_exporter": "python",
   "pygments_lexer": "ipython3",
   "version": "3.11.4"
  },
  "orig_nbformat": 4
 },
 "nbformat": 4,
 "nbformat_minor": 2
}
